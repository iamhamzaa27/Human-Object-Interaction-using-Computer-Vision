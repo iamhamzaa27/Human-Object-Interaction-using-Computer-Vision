{
  "nbformat": 4,
  "nbformat_minor": 0,
  "metadata": {
    "colab": {
      "provenance": [],
      "gpuType": "T4"
    },
    "kernelspec": {
      "name": "python3",
      "display_name": "Python 3"
    },
    "language_info": {
      "name": "python"
    },
    "accelerator": "GPU"
  },
  "cells": [
    {
      "cell_type": "code",
      "execution_count": 2,
      "metadata": {
        "id": "Bh9GuqY7j5zq"
      },
      "outputs": [],
      "source": [
        "!mkdir -p ~/.kaggle\n",
        "!cp kaggle.json ~/.kaggle/"
      ]
    },
    {
      "cell_type": "code",
      "source": [
        "!kaggle datasets download -d salader/dogs-vs-cats"
      ],
      "metadata": {
        "colab": {
          "base_uri": "https://localhost:8080/"
        },
        "id": "Ju6dC5WFl6aA",
        "outputId": "e654f58c-42c6-4274-b639-18f23dcbf437"
      },
      "execution_count": 3,
      "outputs": [
        {
          "output_type": "stream",
          "name": "stdout",
          "text": [
            "Warning: Your Kaggle API key is readable by other users on this system! To fix this, you can run 'chmod 600 /root/.kaggle/kaggle.json'\n",
            "Downloading dogs-vs-cats.zip to /content\n",
            "100% 1.06G/1.06G [00:08<00:00, 248MB/s]\n",
            "100% 1.06G/1.06G [00:08<00:00, 132MB/s]\n"
          ]
        }
      ]
    },
    {
      "cell_type": "code",
      "source": [
        "import zipfile\n",
        "zip_ref = zipfile.ZipFile('/content/dogs-vs-cats.zip', 'r')\n",
        "zip_ref.extractall('/content')\n",
        "zip_ref.close()"
      ],
      "metadata": {
        "id": "u6MjK4HCmG2R"
      },
      "execution_count": 4,
      "outputs": []
    },
    {
      "cell_type": "code",
      "source": [
        "import tensorflow as tf\n",
        "from tensorflow import keras\n",
        "from keras import Sequential\n",
        "from keras.layers import Dense,Flatten,Conv2D,MaxPooling2D,Dropout\n"
      ],
      "metadata": {
        "id": "5PDhGHw9mfsC"
      },
      "execution_count": 5,
      "outputs": []
    },
    {
      "cell_type": "code",
      "source": [
        "train_ds = keras.utils.image_dataset_from_directory(\n",
        "  directory = '/content/train',\n",
        "  labels='inferred',\n",
        "  label_mode = 'int',\n",
        "  batch_size = 32,\n",
        "  image_size = (256,256)\n",
        ")\n",
        "validation_ds = keras.utils.image_dataset_from_directory(\n",
        "  directory = '/content/test',\n",
        "  labels='inferred',\n",
        "  label_mode = 'int',\n",
        "  batch_size = 32,\n",
        "  image_size = (256,256)\n",
        ")"
      ],
      "metadata": {
        "colab": {
          "base_uri": "https://localhost:8080/"
        },
        "id": "rmJvt7M0nCBr",
        "outputId": "7bb4ab01-7e99-4abc-bdd4-20ba612cecc9"
      },
      "execution_count": 6,
      "outputs": [
        {
          "output_type": "stream",
          "name": "stdout",
          "text": [
            "Found 20000 files belonging to 2 classes.\n",
            "Found 5000 files belonging to 2 classes.\n"
          ]
        }
      ]
    },
    {
      "cell_type": "code",
      "source": [
        "def process(image,label):\n",
        "  image = tf.cast(image/255. ,tf.float32)\n",
        "  return image,label\n",
        "train_ds = train_ds.map(process)\n",
        "validation_ds = validation_ds.map(process)"
      ],
      "metadata": {
        "id": "HH_67jVLnq6H"
      },
      "execution_count": 7,
      "outputs": []
    },
    {
      "cell_type": "code",
      "source": [
        "model = Sequential()\n",
        "model.add(Conv2D(16,(3,3),padding='valid',activation='relu',input_shape=(256,256,3)))\n",
        "model.add(MaxPooling2D(pool_size=(2,2),strides=2,padding='valid'))\n",
        "\n",
        "model.add(Conv2D(32,(3,3),padding='valid',activation='relu',input_shape=(256,256,3)))\n",
        "model.add(MaxPooling2D(pool_size=(2,2),strides=2,padding='valid'))\n",
        "\n",
        "model.add(Conv2D(64,(3,3),padding='valid',activation='relu',input_shape=(256,256,3)))\n",
        "model.add(MaxPooling2D(pool_size=(2,2),strides=2,padding='valid'))\n",
        "\n",
        "model.add(Conv2D(128,(3,3),padding='valid',activation='relu',input_shape=(256,256,3)))\n",
        "model.add(MaxPooling2D(pool_size=(2,2),strides=2,padding='valid'))\n",
        "\n",
        "model.add(Flatten())\n",
        "\n",
        "model.add(Dense(128,activation='relu'))\n",
        "model.add(Dropout(0.5))\n",
        "model.add(Dense(64,activation='relu'))\n",
        "model.add(Dropout(0.5))\n",
        "model.add(Dense(1,activation='sigmoid'))"
      ],
      "metadata": {
        "id": "KQ6fFuEqoI3o"
      },
      "execution_count": 8,
      "outputs": []
    },
    {
      "cell_type": "code",
      "source": [
        "model_summary = model.summary()"
      ],
      "metadata": {
        "colab": {
          "base_uri": "https://localhost:8080/"
        },
        "id": "d0WFxE2HpAfs",
        "outputId": "0dd524c6-cc64-42f3-94c5-faf138e50622"
      },
      "execution_count": 9,
      "outputs": [
        {
          "output_type": "stream",
          "name": "stdout",
          "text": [
            "Model: \"sequential\"\n",
            "_________________________________________________________________\n",
            " Layer (type)                Output Shape              Param #   \n",
            "=================================================================\n",
            " conv2d (Conv2D)             (None, 254, 254, 16)      448       \n",
            "                                                                 \n",
            " max_pooling2d (MaxPooling2  (None, 127, 127, 16)      0         \n",
            " D)                                                              \n",
            "                                                                 \n",
            " conv2d_1 (Conv2D)           (None, 125, 125, 32)      4640      \n",
            "                                                                 \n",
            " max_pooling2d_1 (MaxPoolin  (None, 62, 62, 32)        0         \n",
            " g2D)                                                            \n",
            "                                                                 \n",
            " conv2d_2 (Conv2D)           (None, 60, 60, 64)        18496     \n",
            "                                                                 \n",
            " max_pooling2d_2 (MaxPoolin  (None, 30, 30, 64)        0         \n",
            " g2D)                                                            \n",
            "                                                                 \n",
            " conv2d_3 (Conv2D)           (None, 28, 28, 128)       73856     \n",
            "                                                                 \n",
            " max_pooling2d_3 (MaxPoolin  (None, 14, 14, 128)       0         \n",
            " g2D)                                                            \n",
            "                                                                 \n",
            " flatten (Flatten)           (None, 25088)             0         \n",
            "                                                                 \n",
            " dense (Dense)               (None, 128)               3211392   \n",
            "                                                                 \n",
            " dropout (Dropout)           (None, 128)               0         \n",
            "                                                                 \n",
            " dense_1 (Dense)             (None, 64)                8256      \n",
            "                                                                 \n",
            " dropout_1 (Dropout)         (None, 64)                0         \n",
            "                                                                 \n",
            " dense_2 (Dense)             (None, 1)                 65        \n",
            "                                                                 \n",
            "=================================================================\n",
            "Total params: 3317153 (12.65 MB)\n",
            "Trainable params: 3317153 (12.65 MB)\n",
            "Non-trainable params: 0 (0.00 Byte)\n",
            "_________________________________________________________________\n"
          ]
        }
      ]
    },
    {
      "cell_type": "code",
      "source": [
        "model.compile(optimizer='adam',loss='binary_crossentropy',metrics=['accuracy'])"
      ],
      "metadata": {
        "id": "ll7L7tbupDMd"
      },
      "execution_count": 10,
      "outputs": []
    },
    {
      "cell_type": "code",
      "source": [
        "history=model.fit(train_ds,epochs=10,validation_data=validation_ds)\n"
      ],
      "metadata": {
        "colab": {
          "base_uri": "https://localhost:8080/"
        },
        "id": "3DrlGE21qhrW",
        "outputId": "63703957-2c38-4101-ca73-44149756acd2"
      },
      "execution_count": 11,
      "outputs": [
        {
          "output_type": "stream",
          "name": "stdout",
          "text": [
            "Epoch 1/10\n",
            "625/625 [==============================] - 66s 85ms/step - loss: 0.6683 - accuracy: 0.5740 - val_loss: 0.6181 - val_accuracy: 0.6450\n",
            "Epoch 2/10\n",
            "625/625 [==============================] - 47s 75ms/step - loss: 0.5625 - accuracy: 0.7143 - val_loss: 0.5057 - val_accuracy: 0.7472\n",
            "Epoch 3/10\n",
            "625/625 [==============================] - 46s 73ms/step - loss: 0.4741 - accuracy: 0.7786 - val_loss: 0.4606 - val_accuracy: 0.7816\n",
            "Epoch 4/10\n",
            "625/625 [==============================] - 45s 71ms/step - loss: 0.4050 - accuracy: 0.8203 - val_loss: 0.3814 - val_accuracy: 0.8306\n",
            "Epoch 5/10\n",
            "625/625 [==============================] - 48s 77ms/step - loss: 0.3615 - accuracy: 0.8448 - val_loss: 0.3714 - val_accuracy: 0.8364\n",
            "Epoch 6/10\n",
            "625/625 [==============================] - 45s 71ms/step - loss: 0.3098 - accuracy: 0.8705 - val_loss: 0.3707 - val_accuracy: 0.8448\n",
            "Epoch 7/10\n",
            "625/625 [==============================] - 50s 79ms/step - loss: 0.2635 - accuracy: 0.8922 - val_loss: 0.3766 - val_accuracy: 0.8492\n",
            "Epoch 8/10\n",
            "625/625 [==============================] - 49s 78ms/step - loss: 0.2283 - accuracy: 0.9069 - val_loss: 0.4272 - val_accuracy: 0.8414\n",
            "Epoch 9/10\n",
            "625/625 [==============================] - 48s 76ms/step - loss: 0.1888 - accuracy: 0.9245 - val_loss: 0.4731 - val_accuracy: 0.8344\n",
            "Epoch 10/10\n",
            "625/625 [==============================] - 46s 73ms/step - loss: 0.1606 - accuracy: 0.9366 - val_loss: 0.4469 - val_accuracy: 0.8544\n"
          ]
        }
      ]
    },
    {
      "cell_type": "code",
      "source": [
        "import matplotlib.pyplot as plt\n",
        "plt.plot(history.history['accuracy'],color='red',label='train')\n",
        "plt.plot(history.history['val_accuracy'],color='blue',label='validation')\n",
        "plt.legend()\n",
        "plt.show()"
      ],
      "metadata": {
        "colab": {
          "base_uri": "https://localhost:8080/",
          "height": 431
        },
        "id": "bZYkh94Kt-oA",
        "outputId": "49cba449-2742-4014-87fd-dc60288d15e7"
      },
      "execution_count": 32,
      "outputs": [
        {
          "output_type": "display_data",
          "data": {
            "text/plain": [
              "<Figure size 640x480 with 1 Axes>"
            ],
            "image/png": "[encoded data removed]"
          },
          "metadata": {}
        }
      ]
    },
    {
      "cell_type": "code",
      "source": [
        "import cv2\n",
        "test_img = cv2.imread('/content/doggie-daycare.jpg')\n",
        "test_img = cv2.resize(test_img,(256,256))\n",
        "test_input=test_img.reshape((1,256,256,3))\n",
        "x=model.predict(test_input)\n",
        "x.tolist()\n",
        "if x[0][0]==0:\n",
        "  print('cat')\n",
        "else:\n",
        "  print('dog')"
      ],
      "metadata": {
        "colab": {
          "base_uri": "https://localhost:8080/"
        },
        "id": "YPwa4DrjzFSx",
        "outputId": "8ee1c465-36df-456f-e792-01409e7e281f"
      },
      "execution_count": 33,
      "outputs": [
        {
          "output_type": "stream",
          "name": "stdout",
          "text": [
            "1/1 [==============================] - 0s 19ms/step\n",
            "dog\n"
          ]
        }
      ]
    },
    {
      "cell_type": "code",
      "source": [],
      "metadata": {
        "id": "DttAIcK51wiS"
      },
      "execution_count": null,
      "outputs": []
    }
  ]
}